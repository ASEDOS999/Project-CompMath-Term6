{
 "cells": [
  {
   "cell_type": "markdown",
   "metadata": {},
   "source": [
    "# Начало начал)\n",
    "\n",
    "В данном проекте мы рассмотрим методы численного решения уравнения теплопроводности и задачи Коши для него.\n",
    "\n",
    "Запишем уравнение:\n",
    "\n",
    "$\\frac{\\partial u}{\\partial t} = \\frac{\\partial^2 u}{\\partial x^2} + \\frac{\\partial^2 u}{\\partial y^2}$\n",
    "\n",
    "$0 \\leq t \\leq T$, $(x,y) \\in D$\n",
    "\n",
    "$u(x,y,0) = f(x,y)$\n",
    "\n",
    "$u|_D = 0$"
   ]
  },
  {
   "cell_type": "markdown",
   "metadata": {},
   "source": [
    "## Описание методов\n",
    "\n",
    "Возьмем в качестве системы:\n",
    "\n",
    "$\\frac{\\partial v}{\\partial t} = \\frac{\\partial^2 v}{\\partial x^2}$\n",
    "\n",
    "$\\frac{\\partial w}{\\partial t} = \\frac{\\partial^2 w}{\\partial y^2}$\n",
    "\n",
    "$v(x,y,t_p) = u(x,y,t_p)$, $w(x,y,t_p) = v(x,y,t_{p+1})$\n",
    "\n",
    "Такую систему можно интерпретировать как приближенную замену процесса распространения тепла по плоскости Oxy за время $t_p \\leq t \\leq t_{p+1}$ на 2 процесса. В первом из них вводятся теплонепроницаемые перегородки, препятствующие распространению тепла по оси Oy. Затем, по прошествии времени $\\tau$, взамен них вводятся перегородки мешающие распространению тепла вдоль оси Ox. Тогда распространение тепла описывается 2 уравнением.\n",
    "\n",
    "Давайте возьмем сетку $(x_m, y_n, t_p) = (mh, nh, p\\tau)$\n",
    "\n",
    "Разностную схему можно построить большим числом способов, мы же рассмотрим ровно 2:\n",
    "\n",
    "* $\\frac{\\widetilde{u} - u_{mn}^p}{\\tau} = \\Lambda_{xx}u_{mn}^p$\n",
    "\n",
    "  $\\frac{u_{mn}^{p+1} - \\widetilde{u}}{\\tau} = \\Lambda_{yy}\\widetilde{u_{mn}^p}$\n",
    "\n",
    "  $u_{mn}^0 = f(x_m, y_n)$\n",
    "\n",
    "* $\\frac{\\widetilde{u_{mn}} - u_{mn}^p}{\\tau} = \\Lambda_{xx}u_{mn}$\n",
    "\n",
    "  $\\frac{u_{mn}^{p+1} - \\widetilde{u_{mn}}}{\\tau} = \\Lambda_{yy}{u_{mn}^{p+1}}$\n",
    "\n",
    "  $u_{mn}^0 = f(x_m, y_n)$\n",
    "\n",
    "В обеих схемах положим: $\\widetilde{u_{mn}} = v_{mn}^{p+1} = w_{mn}^{p}$,\n",
    "$u_{mn}^{p+1} = w_{mn}^{p+1}$, также\n",
    "\n",
    "$\\Lambda_{xx}u_{mn} = \\frac{u_{m+1, n} - 2u_{mn} + u_{m-1, n}}{h^2}$\n",
    "\n",
    "$\\Lambda_{yy}u_{mn} = \\frac{u_{m, n+1} - 2u_{mn} + u_{m, n-1}}{h^2}$"
   ]
  },
  {
   "cell_type": "code",
   "execution_count": null,
   "metadata": {},
   "outputs": [],
   "source": []
  }
 ],
 "metadata": {
  "kernelspec": {
   "display_name": "Python 3",
   "language": "python",
   "name": "python3"
  },
  "language_info": {
   "codemirror_mode": {
    "name": "ipython",
    "version": 3
   },
   "file_extension": ".py",
   "mimetype": "text/x-python",
   "name": "python",
   "nbconvert_exporter": "python",
   "pygments_lexer": "ipython3",
   "version": "3.6.4"
  }
 },
 "nbformat": 4,
 "nbformat_minor": 2
}
