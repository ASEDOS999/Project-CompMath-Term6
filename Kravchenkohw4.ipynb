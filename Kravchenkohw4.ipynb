{
 "cells": [
  {
   "cell_type": "markdown",
   "metadata": {},
   "source": [
    "# Домашнее задание 10-11\n",
    "\n",
    "(прислать до 02:00 07.05.2019)\n",
    "\n",
    "Домашнее задание выполняется в этом же Jupyter Notebook'e и присылается мне в Piazza через Private Post.\n",
    "Файл с Вашим решением должен называться ```Surname_HW#```, где вместо ```Surname``` Вы пишите свою фамилию латиницей, а вместо ```#``` - номер домашнего задания. \n",
    "Решение каждой задачи необходимо поместить после её условия.\n",
    "\n",
    "Пожалуйста, пишите свои решения чётко и понятно. \n",
    "При полном запуске Вашего решения (Kernel -> Restart & Run All) все ячейки должны выполняться без ошибок. "
   ]
  },
  {
   "cell_type": "markdown",
   "metadata": {
    "collapsed": true
   },
   "source": [
    "## Задача 1\n",
    "\n",
    "Получите аналитические выражения для проекций на множества, перечисленные на слайде с примерами простых множеств для метода проекции градиента. Оцените сложность вычисления проекций для каждого множества."
   ]
  },
  {
   "cell_type": "markdown",
   "metadata": {},
   "source": [
    "Построим задачу минимизации $||x-y||_2$, где $x \\in P$ \n",
    "\n",
    "первое множество $Ax=b$ \n",
    "\n",
    "Напишем условие минимума:$L_x = 0$\n",
    "\n",
    "$L = ||x-y||_2 + \\lambda^{\\top} \\cdot (Ax-b)$\n",
    "\n",
    "Имеем: $ \\frac{x - y}{||x - y||} + A^{\\top}\\lambda = 0$, теперь домножим обе части на A слева, учтем, что $Ax=b$.\n",
    "\n",
    "Получаем $\\lambda = (AA^{\\top})^{-1} \\cdot \\frac{1}{||x - y||} \\cdot (Ay - b)$\n",
    "\n",
    "Отсюда $x = y - A^{\\top}(AA^{\\top})^{-1}(Ay - b)$\n",
    "\n",
    "Тогда сложность куб изза перемножения матриц\n",
    "\n",
    "второе множество $Cx \\leq d$, заметим, что первое это чтото вроде среза было, поэтому, если наша точка лежит вне множества P, тогда проекция такая же,а если лежит, то сама точка и есть проекция. Сложность видимо квадрат\n",
    "\n",
    "Третье множество: гиперплоскость есть частный случай первого множества, поэтому точка такая же абсолютно, ну плоскость задали $a^{\\top}x = b$, в 1 пункте надо заменить A на a, понятно), тут куб.\n",
    "\n",
    "Четвертое: абсолютно по аналогии со 2 если принадлжеит множеству, то сама точка, иначе из 3 пункта, квадрат.\n",
    "\n",
    "Пятое: отрезок $u \\leq x \\leq l$ был на семинаре, сложность линия\n",
    "\n",
    "проеция $u_k if y_k \\leq u_k, l_k if y_k \\geq l_k, y_k otherwise$, просто у меня почему то не компилится фигурная скобка, знаете почему?\n",
    "\n",
    "Шестое: интервал, если точка на нем, то она сама, иначе фиг знает, просто с некой точностью: крайняя плюс минус точность, полуинтервал это совокупность интервала и отрезка\n",
    "\n",
    "Седьмое: положительный ортант, ну там просто смотрим покоординатно, если отрицательно меняем на 0 и молодцы, сложность линия\n",
    "\n",
    "Восьмое: Лоренцев конус ${(x,t) \\in R^{n+1}$ $||x||_2 \\leq t}$ хотим найти проекцию точки (a,b)\n",
    "\n",
    "Решим для этого задачу минимизации\n",
    "\n",
    "$min$ $0.5 ||x - y||^2_{2} + 0.5(s - t)^2$ \n",
    "\n",
    "$s.t$ $||x||_2^{2} \\leq s^2$"
   ]
  },
  {
   "cell_type": "markdown",
   "metadata": {},
   "source": [
    "## Задача 2\n",
    "\n",
    "1. Реализуйте метод проекции градиента и метод условного градиента. Функция, её градиент и оператор проекции/метод решения задачи линейного программирования на допустимом множестве должны передаваться как аргументы в реализованные Вами методы\n",
    "\n",
    "2. Сравните скорость работы (по времени и по итерациям) реализованных Вами методов на задаче поиска аналитического центра в виде \n",
    "\n",
    "\\begin{align*}\n",
    "& \\min_{x \\in \\mathbb{R}^n} - \\sum_{i=1}^m \\log(1 - a_i^{\\top}x)\\\\\n",
    "\\text{s.t. } & \\|x\\|_1 \\leq n\n",
    "\\end{align*}\n",
    "\n",
    "Вектора $a_i$ инициализируйте случайно, начальная точка - нулевой вектор"
   ]
  },
  {
   "cell_type": "code",
   "execution_count": 1,
   "metadata": {},
   "outputs": [],
   "source": [
    "import numpy as np\n",
    "import time\n",
    "\n",
    "def ProjectedGradientDescent(f, gradf, proj, x0, get_step_size, check_convergence, tol=1e-4):\n",
    "    x = x0\n",
    "    hist = [f(x)]\n",
    "    begin = time.time()\n",
    "    while True:\n",
    "        grad = gradf(x)\n",
    "        alpha = get_step_size(x, f, gradf, proj)\n",
    "        x = proj(x - alpha * grad)\n",
    "        if check_convergence(x, f, tol):\n",
    "            break\n",
    "        hist.append(f(x))\n",
    "    return x, hist, time.time()-begin\n",
    "\n",
    "def FrankWolfe(f, gradf, linprogsolver, x0, get_step_size, check_convergence, tol=1e-4):\n",
    "    x = x0\n",
    "    hist = [f(x)]\n",
    "    begin = time.time()\n",
    "    while True:\n",
    "        gradient = gradf(x)\n",
    "        s = linprogsolver(gradient)\n",
    "        alpha = get_step_size(s, x, f)\n",
    "        x = x + alpha * (s - x)\n",
    "        if check_convergence(x, f, tol):\n",
    "            break\n",
    "        hist.append(f(x))\n",
    "    return x, hist, time.time()-begin"
   ]
  },
  {
   "cell_type": "code",
   "execution_count": 2,
   "metadata": {},
   "outputs": [],
   "source": [
    "import numpy as np\n",
    "\n",
    "n = 20\n",
    "l = 100\n",
    "\n",
    "A = np.random.uniform(-1, 0, (l, n))\n",
    "x0 = np.zeros(n)\n",
    "\n",
    "def f(x):\n",
    "    return (-np.log(1-A.dot(x))).sum()\n",
    "\n",
    "def gradf(x):\n",
    "    ret = 1/(1-A.dot(x))\n",
    "    ret = A * ret[:,None]\n",
    "    return ret.sum(axis=0)\n",
    "\n",
    "def proj(y):\n",
    "    if np.abs(y).sum() <= n:\n",
    "        return y\n",
    "    sign = np.sign(y)\n",
    "    pr = y + ((n-(sign*y).sum())*sign)/n\n",
    "    if (pr*sign < 0).sum() == 0:\n",
    "        return pr\n",
    "    best = np.inf\n",
    "    best_pr = None\n",
    "    for i in range(n):\n",
    "        if y[i] != 0:\n",
    "            pr = np.zeros(n)\n",
    "            pr[i] = n\n",
    "            pr *= sign\n",
    "            dist = ((pr - y)**2).sum()\n",
    "            if dist < best:\n",
    "                best = dist\n",
    "                best_pr = pr\n",
    "    return pr\n",
    "\n",
    "def linprogsolver(grad):\n",
    "    ind = np.argmax(np.abs(grad))\n",
    "    s = np.zeros(grad.size)\n",
    "    s[ind] = n * np.sign(-grad[ind])\n",
    "    return s\n",
    "\n",
    "class Armijo_proj_step_search:\n",
    "    def __init__(self, c1=1e-4, alpha0=1):\n",
    "        self.c1 = c1\n",
    "        self.alpha = alpha0\n",
    "    \n",
    "    def __call__(self, x, f, gradf, proj):\n",
    "        c1 = self.c1\n",
    "        alpha = self.alpha\n",
    "        while (f(proj(x - alpha*gradf(x)))-f(x) > \n",
    "            c1*(gradf(x)*(proj(x - alpha*gradf(x))-x)).sum()):\n",
    "            alpha /= 2\n",
    "        self.alpha = alpha\n",
    "        return alpha\n",
    "    \n",
    "class decreasing_step:\n",
    "    def __init__(self):\n",
    "        self.k = 0\n",
    "        \n",
    "    def __call__(self, *args):\n",
    "        self.k += 1\n",
    "        return 2/(self.k + 1)\n",
    "\n",
    "class check_convergence:\n",
    "    def __init__(self):\n",
    "        self.last = None\n",
    "        \n",
    "    def __call__(self, x, f, tol):\n",
    "        if self.last is None:\n",
    "            self.last = f(x)\n",
    "            return False\n",
    "        if np.abs(f(x) - self.last) < tol:\n",
    "            return True\n",
    "        self.last = f(x)\n",
    "        return False"
   ]
  },
  {
   "cell_type": "code",
   "execution_count": 3,
   "metadata": {},
   "outputs": [
    {
     "name": "stdout",
     "output_type": "stream",
     "text": [
      "Optimal f: -212.74101158249746\n",
      "Steps: 1\n",
      "Time: 0.004972696304321289\n"
     ]
    }
   ],
   "source": [
    "x, hist, run_time = ProjectedGradientDescent(f, gradf, proj, x0, Armijo_proj_step_search(), check_convergence())\n",
    "print('Optimal f:', hist[-1])\n",
    "print('Steps:', len(hist)-1)\n",
    "print('Time:', run_time)"
   ]
  },
  {
   "cell_type": "code",
   "execution_count": 4,
   "metadata": {},
   "outputs": [
    {
     "name": "stdout",
     "output_type": "stream",
     "text": [
      "Optimal f: -242.0272331704932\n",
      "Steps: 79\n",
      "Time: 0.008996963500976562\n"
     ]
    }
   ],
   "source": [
    "x, hist, run_time = FrankWolfe(f, gradf, linprogsolver, x0, decreasing_step(), check_convergence())\n",
    "print('Optimal f:', hist[-1])\n",
    "print('Steps:', len(hist)-1)\n",
    "print('Time:', run_time)"
   ]
  },
  {
   "cell_type": "markdown",
   "metadata": {},
   "source": [
    "## Задача 3\n",
    "\n",
    "Рассмотрите задачу наименьших квадратов с ограничением на первую норму параметров\n",
    "\n",
    "\\begin{align*}\n",
    "\\min \\|Ax - b\\|^2_2\\\\\n",
    "\\text{s.t. } \\|x\\|_1 \\leq 10,\n",
    "\\end{align*}\n",
    "\n",
    "где $A \\in \\mathbb{R}^{100 \\times 400}$ случайно сгенерированная матрица (из нормального или равномерного распределения). \n",
    "Вектор $b = Ax^* + 0.1 \\cdot \\mathcal{N}(0, 1)$, где $x^*$ состоит из 40 ненулевых элементов, каждый из которых равен $\\pm 1$\n",
    "Для сгенерированой матрицы $A$ и вектора $b$ решите задачу методом условного градиента, сравнив сходимость по времени и итерациям для следующих способов выбора шага\n",
    "\n",
    "1. Постоянный\n",
    "2. Убывающая последовательность, например как было показано на семинаре\n",
    "3. Стратегия \"шагов в сторону\" (away steps) см детали [тут](https://arxiv.org/pdf/1312.7864.pdf)\n",
    "4. Наискорейший спуск, так как целевая функция квадратична\n",
    "\n",
    "Покажите как меняется число ненулевых элементов в приближении в процессе сходимости для каждой стратегии выбора шага.\n",
    "У Вас должно получится 2 графика с 4 линиями в каждом. Не забудьте подписать оси и добавить читаемую легенду."
   ]
  },
  {
   "cell_type": "code",
   "execution_count": 5,
   "metadata": {},
   "outputs": [],
   "source": [
    "n = 400\n",
    "l = 100\n",
    "\n",
    "A = np.random.uniform(-1, 1, (l, n))\n",
    "x_star = np.random.choice([-1, 1], n)\n",
    "b = A.dot(x_star) + 0.1 * np.random.normal(size=l)\n",
    "x0 = np.zeros(n)\n",
    "\n",
    "def f(x):\n",
    "    return ((A.dot(x) - b)**2).sum()\n",
    "\n",
    "def gradf(x):\n",
    "    grad = 2*(A.dot(x)-b)\n",
    "    grad = A * grad[:,None]\n",
    "    return grad.sum(axis=0)\n",
    "\n",
    "def linprogsolver(grad):\n",
    "    ind = np.argmax(np.abs(grad))\n",
    "    s = np.zeros(grad.size)\n",
    "    s[ind] = 10 * np.sign(-grad[ind])\n",
    "    return s\n",
    "\n",
    "class constant_step:\n",
    "    def __init__(self, step_size=0.001):\n",
    "        self.step_size=step_size\n",
    "        \n",
    "    def __call__(self, *args):\n",
    "        return self.step_size\n",
    "    \n",
    "def steepest_step(s, x, *args):\n",
    "    alpha = (b*A.dot(s-x) - A.dot(x)*A.dot(s-x)).sum()\n",
    "    alpha /= (A.dot(s-x)**2).sum()\n",
    "    return alpha\n",
    "    \n",
    "class Armijo_step_search:\n",
    "    def __init__(self, c1=1e-4, alpha0=1):\n",
    "        self.c1 = c1\n",
    "        self.alpha = alpha0\n",
    "    \n",
    "    def __call__(self, s, x, f, grad):\n",
    "        c1 = self.c1\n",
    "        alpha = self.alpha\n",
    "        while f(x+alpha*(s-x)) > f(x)+c1*alpha*(grad(x)*(s-x)).sum():\n",
    "            alpha /= 2\n",
    "        self.alpha = alpha\n",
    "        return alpha"
   ]
  },
  {
   "cell_type": "code",
   "execution_count": 6,
   "metadata": {},
   "outputs": [],
   "source": [
    "def FrankWolfe(f, gradf, linprogsolver, x0, get_step_size, check_convergence, tol=1e-4):\n",
    "    x = x0\n",
    "    hist = [f(x)]\n",
    "    begin = time.time()\n",
    "    time_hist = [0]\n",
    "    while True:\n",
    "        gradient = gradf(x)\n",
    "        s = linprogsolver(gradient)\n",
    "        alpha = get_step_size(s, x, f, gradf)\n",
    "        x = x + alpha * (s - x)\n",
    "        hist.append(f(x))\n",
    "        time_hist.append(time.time()-begin)\n",
    "        if check_convergence(x, f, tol):\n",
    "            break\n",
    "    return x, hist, time_hist"
   ]
  },
  {
   "cell_type": "code",
   "execution_count": 7,
   "metadata": {},
   "outputs": [
    {
     "name": "stdout",
     "output_type": "stream",
     "text": [
      "Constant strategy:\n",
      "Optimal f: 11551.367457417744\n",
      "Steps: 7280\n",
      "Time: 1.802715539932251\n"
     ]
    }
   ],
   "source": [
    "x, hist, run_time = FrankWolfe(f, gradf, linprogsolver, x0, constant_step(), check_convergence())\n",
    "print('Constant strategy:')\n",
    "print('Optimal f:', hist[-1])\n",
    "print('Steps:', len(hist)-1)\n",
    "print('Time:', run_time[-1])\n",
    "constant_hist = np.array(hist)\n",
    "constant_time = np.array(run_time)"
   ]
  },
  {
   "cell_type": "code",
   "execution_count": 8,
   "metadata": {},
   "outputs": [
    {
     "name": "stdout",
     "output_type": "stream",
     "text": [
      "Steepest descent:\n",
      "Optimal f: 11550.192561643673\n",
      "Steps: 3646\n",
      "Time: 1.1808133125305176\n"
     ]
    }
   ],
   "source": [
    "x, hist, run_time = FrankWolfe(f, gradf, linprogsolver, x0, steepest_step, check_convergence())\n",
    "print('Steepest descent:')\n",
    "print('Optimal f:', hist[-1])\n",
    "print('Steps:', len(hist)-1)\n",
    "print('Time:', run_time[-1])\n",
    "steepest_hist = np.array(hist)\n",
    "steepest_time = np.array(run_time)"
   ]
  },
  {
   "cell_type": "code",
   "execution_count": 9,
   "metadata": {},
   "outputs": [
    {
     "name": "stdout",
     "output_type": "stream",
     "text": [
      "Decreasing strategy:\n",
      "Optimal f: 11549.4504774838\n",
      "Steps: 577\n",
      "Time: 0.15897440910339355\n"
     ]
    }
   ],
   "source": [
    "x, hist, run_time = FrankWolfe(f, gradf, linprogsolver, x0, decreasing_step(), check_convergence())\n",
    "print('Decreasing strategy:')\n",
    "print('Optimal f:', hist[-1])\n",
    "print('Steps:', len(hist)-1)\n",
    "print('Time:', run_time[-1])\n",
    "decreasing_hist = np.array(hist)\n",
    "decreasing_time = np.array(run_time)"
   ]
  },
  {
   "cell_type": "code",
   "execution_count": 10,
   "metadata": {},
   "outputs": [
    {
     "name": "stdout",
     "output_type": "stream",
     "text": [
      "Armijo search:\n",
      "Optimal f: 11549.53733202378\n",
      "Steps: 52\n",
      "Time: 0.040993452072143555\n"
     ]
    }
   ],
   "source": [
    "x, hist, run_time = FrankWolfe(f, gradf, linprogsolver, x0, Armijo_step_search(), check_convergence())\n",
    "print('Armijo search:')\n",
    "print('Optimal f:', hist[-1])\n",
    "print('Steps:', len(hist)-1)\n",
    "print('Time:', run_time[-1])\n",
    "Armijo_hist = np.array(hist)\n",
    "Armijo_time = np.array(run_time)"
   ]
  },
  {
   "cell_type": "code",
   "execution_count": 11,
   "metadata": {},
   "outputs": [
    {
     "data": {
      "image/png": "[encoded data removed]",
      "text/plain": [
       "<matplotlib.figure.Figure at 0x1e3bc53aa90>"
      ]
     },
     "metadata": {},
     "output_type": "display_data"
    }
   ],
   "source": [
    "import matplotlib.pyplot as plt\n",
    "\n",
    "%matplotlib inline\n",
    "\n",
    "fig, ax = plt.subplots(1, 2, figsize=(20, 10))\n",
    "\n",
    "ax[0].plot(np.arange(len(constant_hist)), constant_hist, label='Constant strategy')\n",
    "ax[0].plot(np.arange(len(steepest_hist)), steepest_hist, label='Steepest descent')\n",
    "ax[0].plot(np.arange(len(decreasing_hist)), decreasing_hist, label='Decreasing strategy')\n",
    "ax[0].plot(np.arange(len(Armijo_hist)), Armijo_hist, label='Armijo search')\n",
    "ax[0].set_title('Function value from iteration number', fontsize=15)\n",
    "ax[0].set_xlabel('iteration', fontsize=15)\n",
    "ax[0].set_ylabel('function value', fontsize=15)\n",
    "ax[0].legend(fontsize=15)\n",
    "ax[0].grid(True)\n",
    "\n",
    "ax[1].plot(constant_time, constant_hist, label='Constant strategy')\n",
    "ax[1].plot(steepest_time, steepest_hist, label='Steepest descent')\n",
    "ax[1].plot(decreasing_time, decreasing_hist, label='Decreasing strategy')\n",
    "ax[1].plot(Armijo_time, Armijo_hist, label='Armijo search')\n",
    "ax[1].set_title('Function value from real time', fontsize=15)\n",
    "ax[1].set_xlabel('time', fontsize=15)\n",
    "ax[1].set_ylabel('function value', fontsize=15)\n",
    "ax[1].legend(fontsize=15)\n",
    "ax[1].grid(True)"
   ]
  },
  {
   "cell_type": "markdown",
   "metadata": {},
   "source": [
    "## Задача 4\n",
    "\n",
    "Для задачи \n",
    "\n",
    "$$\n",
    "\\min \\frac{1}{2}x^{\\top}Ax - b^{\\top}x, \\quad A \\in \\mathbb{S}^n_{+}\n",
    "$$\n",
    "\n",
    "получите и реализуйте проксимальный метод для её решения.\n",
    "\n",
    "- Постройте графики сходимости нормы градиента для различных постоянных значений шага $\\alpha_k = 10^{-6}, 10^{-5}, \\ldots, 1, 10, 100$.\n",
    "- Как эффективно реализовать один шаг проксимального метода и какая в этом случае сложность у вычисления $x_{k+1}$ для $k = 2, 3, \\ldots$?\n",
    "- Проведите эксперименты для матриц $A$ с числом обусловленности $\\kappa = 10, 100, 1000$. Как зависит эффективность проксимального метода от числа обусловленности матрицы $A$? Какой параметр $\\alpha_k$ для каждого числа обусловленности даёт самую быструю сходимость? "
   ]
  },
  {
   "cell_type": "code",
   "execution_count": 12,
   "metadata": {},
   "outputs": [],
   "source": [
    "from numpy.linalg import norm\n",
    "\n",
    "alpha_list = [1e-6, 1e-5, 1e-4, 1e-3, 1e-2, 0.1, 1, 10, 100]\n",
    "k_list = [10, 100, 1000]\n",
    "\n",
    "# генерация задачи:\n",
    "n = 100\n",
    "k = k_list[0]\n",
    "alpha = alpha_list[5]\n",
    "\n",
    "A = np.random.choice([i for i in range(1, k+1)], size=n)\n",
    "A[0] = 1\n",
    "A[1] = k\n",
    "A = np.diag(A)\n",
    "b = np.random.choice([i for i in range(1, k+1)], size=n)\n",
    "x0 = np.zeros(n)\n",
    "\n",
    "def f(x):\n",
    "    return 0.5*((A.dot(x)*x).sum()) - (b*x).sum()\n",
    "\n",
    "def grad(x):\n",
    "    return A.dot(x)-b\n",
    "\n",
    "def prox(x):\n",
    "    return np.linalg.inv(A+np.eye(n)*(1e-4)).dot(b-A.dot(x))\n",
    "\n",
    "def ProximalMethod(f, gradf, prox, x0, alpha, tol=1e-4):\n",
    "    x = x0.copy()\n",
    "    hist = [f(x)]\n",
    "    grad_norm = [norm(gradf(x))]\n",
    "    while norm(gradf(x))**2 > tol*norm(gradf(x0))**2:\n",
    "        x += alpha*prox(x)\n",
    "        hist.append(f(x))\n",
    "        grad_norm.append(norm(gradf(x)))\n",
    "    return x, hist, grad_norm"
   ]
  },
  {
   "cell_type": "code",
   "execution_count": 16,
   "metadata": {},
   "outputs": [
    {
     "name": "stdout",
     "output_type": "stream",
     "text": [
      "[3.96119008 0.89127161 0.33010023 0.61893854 1.15535172 1.15535172\n",
      " 2.97089968 0.16505025 1.5844821  0.99030108 2.47574973 2.31070159\n",
      " 3.46604962 1.18836158 0.49515089 3.30100227 0.61893854 0.49515074\n",
      " 0.39612053 7.92238017 7.92238017 1.41471655 1.32040196 0.49515074\n",
      " 1.32040196 0.70735828 1.2732449  0.99030167 0.99030159 0.69321125\n",
      " 2.47575269 1.18836158 8.91267769 0.39612053 1.65050114 2.22817742\n",
      " 4.45634951 1.98059978 0.33010023 1.48544984 0.49515089 1.38642184\n",
      " 1.65050114 1.98060136 2.31070159 0.82525123 0.49515054 1.73302689\n",
      " 0.59418079 1.98060215 2.64080182 4.95149946 0.39612053 0.86651396\n",
      " 0.33010023 0.61893854 5.94178513 0.99030068 8.91267769 0.66020116\n",
      " 0.39612053 0.79224143 0.12378771 3.96119008 1.73302689 2.47574973\n",
      " 3.96119957 1.78254237 2.47574973 1.41471655 0.49515084 0.33010049\n",
      " 0.33010049 1.98060136 0.59418107 0.49514995 2.47574973 1.13177324\n",
      " 1.48545162 4.45634951 0.99030131 0.99030131 0.11003353 0.12378771\n",
      " 0.49515089 7.92238017 0.61893854 0.82525123 0.16505025 0.33010058\n",
      " 1.10033526 2.97090205 1.41471655 0.99030068 0.82525123 0.29709054\n",
      " 0.79224143 7.92238017 0.89127161 0.61893854]\n"
     ]
    }
   ],
   "source": [
    "x_star, hist, grad_norm = ProximalMethod(f, grad, prox, x0, alpha)\n",
    "print (x_star)"
   ]
  },
  {
   "cell_type": "code",
   "execution_count": null,
   "metadata": {},
   "outputs": [],
   "source": []
  },
  {
   "cell_type": "markdown",
   "metadata": {},
   "source": [
    "## Задача 5\n",
    "\n",
    "В первом задании Вам было предложено решить задачу неотрицательного матричного разложения для набора изображений с помощью пакета CVXPy. Теперь решите эту же задачу на тех же данных, но с помощью метода проекции градиента. Сравните время и качество работы этого метода с тем, что у Вас получилось при работе с CVXPy. Рассмотрите различные варианты подбора шага. Сделайте вывод о том, какой подход лучше и почему."
   ]
  },
  {
   "cell_type": "code",
   "execution_count": 14,
   "metadata": {},
   "outputs": [],
   "source": [
    "# Месть для Вашего решения"
   ]
  },
  {
   "cell_type": "markdown",
   "metadata": {},
   "source": [
    "## Задача 6\n",
    "\n",
    "- (0.2 pts) Пусть Вам дано $m$ векторов из $\\mathbb{R}^n$, про которых известно что они сгенерированы из некоторого нормального распределения с параметрами $(\\mu, \\Sigma)$. Более того, известно, что $\\Sigma^{-1}$ разрежена, то есть много пар компонент векторов условно независимы. Сгенерируйте данные, которые удовлетворяют этим требованиям для $n = 100$ и $m = 500$. Если последующие пункты будут долго считаться, уменьшите эти параметры\n",
    "- (0.6 pts) Теперь поставьте задачу поиска оценки матрицы $\\Sigma^{-1}$ на основе оценки максимального правдоподобия. [Тут](http://jrmeyer.github.io/machinelearning/2017/08/18/mle.html) описан метод для скалярного случая, Вам надо его обобщить на векторный, в котором вместо дисперсии будет ковариационная матрица. В качестве среднего используйте также оценку максимального правдоподобия.\n",
    "- Добавьте к Вашей постановке ограничение на то, что матрица $\\Sigma^{-1}$ разрежена. Это делается добавлением к целевой функции слагаемого вида $\\lambda \\sum_{i < j} |(\\Sigma^{-1})_{ij}|$, то есть аналог $\\ell_1$ регуляризации для задачи наименьших квадратов, только теперь у нас разрежен не вектор, а матрица\n",
    "- (0.8 pts) Решите поставленную задачу проксимальным градиентным методом и его ускоренной версией. Для этого Вам нужно понять, проксимальный оператор от какой функции Вы будете считать и чему он равен. \n",
    "- (0.4 pts) Постройте график сходимости по значениям целевой функции и нарисуйте финальную матрицу $\\Sigma^{-1}$ с помощью функции `plt.spy()`. Сравните ответ с точной матрицей, которая использовалась для генерирации данных. Насколько они отличаются? Объясните результат, как он зависит от параметра $\\lambda$?"
   ]
  },
  {
   "cell_type": "code",
   "execution_count": 15,
   "metadata": {},
   "outputs": [],
   "source": [
    "# Месть для Вашего решения"
   ]
  }
 ],
 "metadata": {
  "kernelspec": {
   "display_name": "Python 3",
   "language": "python",
   "name": "python3"
  },
  "language_info": {
   "codemirror_mode": {
    "name": "ipython",
    "version": 3
   },
   "file_extension": ".py",
   "mimetype": "text/x-python",
   "name": "python",
   "nbconvert_exporter": "python",
   "pygments_lexer": "ipython3",
   "version": "3.6.4"
  }
 },
 "nbformat": 4,
 "nbformat_minor": 2
}
